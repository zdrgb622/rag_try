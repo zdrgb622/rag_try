{
 "cells": [
  {
   "cell_type": "code",
   "execution_count": 11,
   "id": "c33f804f",
   "metadata": {},
   "outputs": [],
   "source": [
    "import pandas as pd\n",
    "import re\n",
    "from bs4 import BeautifulSoup\n",
    "import torch\n",
    "from transformers import AutoTokenizer, AutoModel\n",
    "from tqdm import tqdm\n",
    "import os\n",
    "import ast "
   ]
  },
  {
   "cell_type": "code",
   "execution_count": 3,
   "id": "d36e4502",
   "metadata": {},
   "outputs": [
    {
     "data": {
      "application/vnd.jupyter.widget-view+json": {
       "model_id": "26bc144d5af84b068f26bdbcd2cda833",
       "version_major": 2,
       "version_minor": 0
      },
      "text/plain": [
       "Generating train split: 0 examples [00:00, ? examples/s]"
      ]
     },
     "metadata": {},
     "output_type": "display_data"
    },
    {
     "data": {
      "application/vnd.jupyter.widget-view+json": {
       "model_id": "eec13d43e6254f34bb4889a734412f1c",
       "version_major": 2,
       "version_minor": 0
      },
      "text/plain": [
       "Loading dataset shards:   0%|          | 0/31 [00:00<?, ?it/s]"
      ]
     },
     "metadata": {},
     "output_type": "display_data"
    }
   ],
   "source": [
    "from datasets import load_dataset\n",
    "\n",
    "ds = load_dataset(\"json\", data_files=\"v1.0-simplified_simplified-nq-train.jsonl/simplified-nq-train.jsonl\", split=\"train\")\n",
    "ds = ds.select(range(1000))"
   ]
  },
  {
   "cell_type": "code",
   "execution_count": null,
   "id": "10b54ba2",
   "metadata": {},
   "outputs": [],
   "source": [
    "chunks = pd.read_json(\"v1.0-simplified_simplified-nq-train.jsonl/simplified-nq-train.jsonl\", lines=True, chunksize=1000)\n",
    "# use the first chunk for experiment\n",
    "df = next(chunks).reset_index(drop=True)"
   ]
  },
  {
   "cell_type": "code",
   "execution_count": 2,
   "id": "a189aa25",
   "metadata": {},
   "outputs": [],
   "source": [
    "# parse the html and remove the html tag\n",
    "def clear_tag(text):\n",
    "    soup = BeautifulSoup(text, \"html.parser\")\n",
    "    return soup.get_text(separator=\" \", strip=True)\n",
    "\n",
    "# documents = df['document_text'].apply(clear_tag)\n",
    "documents = pd.read_csv(\"./data/documents.csv\")['document_text']"
   ]
  },
  {
   "cell_type": "code",
   "execution_count": 3,
   "id": "3e7615c6",
   "metadata": {},
   "outputs": [],
   "source": [
    "# seperate the text into chunk\n",
    "def split_into_chunks(text, chunk_size=100):\n",
    "    words = re.findall(r'\\w+', text)\n",
    "    chunks = []\n",
    "    for i in range(0, len(words), chunk_size):\n",
    "        chunk = \" \".join(words[i:i+chunk_size])\n",
    "        chunks.append(chunk)\n",
    "    return chunks\n",
    "chunk_lists = documents.apply(split_into_chunks) \n",
    "all_chunks = [chunk for doc_chunks in chunk_lists for chunk in doc_chunks]"
   ]
  },
  {
   "cell_type": "code",
   "execution_count": 12,
   "id": "1bb40acb",
   "metadata": {},
   "outputs": [],
   "source": [
    "# # embed the chunk\n",
    "device = torch.device(\"cuda\" if torch.cuda.is_available() else \"cpu\")\n",
    "tokenizer = AutoTokenizer.from_pretrained(\"facebook/contriever\")\n",
    "model = AutoModel.from_pretrained(\"facebook/contriever\").to(device)\n",
    "model.eval()\n",
    "\n",
    "def mean_pooling(model_output, attention_mask):\n",
    "    token_embeddings = model_output.last_hidden_state\n",
    "    input_mask_expanded = attention_mask.unsqueeze(-1).expand(token_embeddings.size()).float()\n",
    "    return (token_embeddings * input_mask_expanded).sum(dim=1) / input_mask_expanded.sum(dim=1)\n"
   ]
  },
  {
   "cell_type": "code",
   "execution_count": 5,
   "id": "1f2aa0d0",
   "metadata": {},
   "outputs": [],
   "source": [
    "def process_chunks_to_single_csv(all_chunks, batch_size=50, output_csv=\"contriever_embeddings.csv\"):\n",
    "    first_write = True  \n",
    "\n",
    "    for i in tqdm(range(0, len(all_chunks), batch_size), desc=\"Embedding chunks\"):\n",
    "        batch_chunks = all_chunks[i:i+batch_size]\n",
    "\n",
    "        # tokenizer\n",
    "        inputs = tokenizer(batch_chunks, padding=True, truncation=True, return_tensors='pt', max_length=512)\n",
    "        inputs = {k: v.to(device) for k, v in inputs.items()}\n",
    "\n",
    "        # forward\n",
    "        with torch.no_grad():\n",
    "            outputs = model(**inputs)\n",
    "        embeddings = mean_pooling(outputs, inputs[\"attention_mask\"]).cpu().tolist()\n",
    "\n",
    "        # 加入 DataFrame\n",
    "        df = pd.DataFrame({\n",
    "            \"chunk\": batch_chunks,\n",
    "            \"embedding\": embeddings\n",
    "        })\n",
    "\n",
    "        df.to_csv(output_csv, mode='a', header=first_write, index=False)\n",
    "        first_write = False \n"
   ]
  },
  {
   "cell_type": "code",
   "execution_count": 6,
   "id": "6d125cd1",
   "metadata": {},
   "outputs": [
    {
     "name": "stderr",
     "output_type": "stream",
     "text": [
      "Embedding chunks: 100%|██████████| 20/20 [00:06<00:00,  3.28it/s]\n"
     ]
    }
   ],
   "source": [
    "process_chunks_to_single_csv(all_chunks[:1000], batch_size=50, output_csv=\"contriever_embeddings.csv\")"
   ]
  },
  {
   "cell_type": "code",
   "execution_count": 9,
   "id": "ea5b13b6",
   "metadata": {},
   "outputs": [],
   "source": [
    "import numpy as np\n",
    "df = pd.read_csv(\"contriever_embeddings.csv\")\n",
    "df['embedding'] = df['embedding'].apply(ast.literal_eval)  \n",
    "embedding_matrix = np.array(df['embedding'].tolist()).astype('float32')  # shape: (N, 768)"
   ]
  },
  {
   "cell_type": "code",
   "execution_count": 12,
   "id": "3834e786",
   "metadata": {},
   "outputs": [],
   "source": [
    "import faiss\n",
    "\n",
    "faiss.normalize_L2(embedding_matrix)\n",
    "\n",
    "index = faiss.IndexFlatIP(embedding_matrix.shape[1])  # IP = Inner Product\n",
    "index.add(embedding_matrix)\n"
   ]
  },
  {
   "cell_type": "code",
   "execution_count": 14,
   "id": "8f7b7788",
   "metadata": {},
   "outputs": [],
   "source": [
    "# save the faiss\n",
    "faiss.write_index(index, \"contriever_index.faiss\")"
   ]
  },
  {
   "cell_type": "code",
   "execution_count": 16,
   "id": "611e098f",
   "metadata": {},
   "outputs": [
    {
     "data": {
      "text/plain": [
       "'which is the most common use of opt-in e-mail marketing'"
      ]
     },
     "execution_count": 16,
     "metadata": {},
     "output_type": "execute_result"
    }
   ],
   "source": [
    "query = ds['question_text'][0]\n",
    "query"
   ]
  },
  {
   "cell_type": "code",
   "execution_count": 13,
   "id": "120b1141",
   "metadata": {},
   "outputs": [],
   "source": [
    "# read the saved faiss\n",
    "import faiss\n",
    "\n",
    "index = faiss.read_index(\"contriever_index.faiss\")"
   ]
  },
  {
   "cell_type": "code",
   "execution_count": 17,
   "id": "a3c1ac26",
   "metadata": {},
   "outputs": [],
   "source": [
    "inputs = tokenizer(query, return_tensors=\"pt\", padding=True, truncation=True, max_length=512).to(device)\n",
    "with torch.no_grad():\n",
    "    outputs = model(**inputs)\n",
    "query_embedding = mean_pooling(outputs, inputs['attention_mask'])\n",
    "\n",
    "# normalize for cosine similarity\n",
    "query_embedding = query_embedding.cpu().numpy()\n",
    "faiss.normalize_L2(query_embedding)\n",
    "\n",
    "D, I = index.search(query_embedding, k=5)"
   ]
  },
  {
   "cell_type": "code",
   "execution_count": null,
   "id": "7130966a",
   "metadata": {},
   "outputs": [
    {
     "name": "stdout",
     "output_type": "stream",
     "text": [
      "14 : marketing is a method of advertising via email whereby the recipient of the advertisement has consented to receive it This method is one of several developed by marketers to eliminate the disadvantages of email marketing Opt in email marketing may evolve into a technology that uses a handshake protocol between the sender and receiver This system is intended to eventually result in a high degree of satisfaction between consumers and marketers If opt in email advertising is used the material that is emailed to consumers will be anticipated It is assumed that the recipient wants to receive it which makes\n",
      "\n",
      "11 : behavior of the recipients The insights provided by consumer response to email marketing help businesses and organizations understand and make use of consumer behavior Email provides a cost effective method to test different marketing content including visual creative marketing copy and multimedia assets The data gathered by testing in the email channel can then be used across all channels of marketing campaigns both print and digital Advertisers can reach substantial numbers of email subscribers who have opted in i e consented to receive the email Almost half of American Internet users check or send email on a typical day with\n",
      "\n",
      "9 : users and to make them view advertising for longer However the rate of delivery is still relatively low due to better filtering out of advertising and users having multiple email accounts for different purposes Because emails are generated according to the tracked behavior of consumers it is possible to send advertising which is based on the recipient s behavior Because of this modern email marketing is perceived more often as a pull strategy rather than a push strategy Comparison to traditional mail There are both advantages and disadvantages to using email marketing in comparison to traditional advertising mail Advantages Email\n",
      "\n",
      "18 : of member states In the UK it is covered under the Privacy and Electronic Communications EC Directive Regulations 2003 and applies to all organizations that send out marketing by some form of electronic communication United states The CAN SPAM Act of 2003 was passed by Congress as a direct response of the growing number of complaints over spam e mails Congress determined that the US government was showing an increased interest in the regulation of commercial electronic mail nationally that those who send commercial e mails should not mislead recipients over the source or content of them and that all\n",
      "\n",
      "5 : emails which are sent to specific users based on their tracked online browsing patterns Historically it has been difficult to measure the effectiveness of marketing campaigns because target markets can not be adequately defined Email marketing carries the benefit of allowing marketers to identify returns on investment and measure and improve efficiency Email marketing allows marketers to see feedback from users in real time and to monitor how effective their campaign is in achieving market penetration revealing a communication channel s scope At the same time however it also means that the more personal nature of certain advertising methods such\n",
      "\n"
     ]
    }
   ],
   "source": [
    "# find the top-5\n",
    "df = pd.read_csv(\"contriever_embeddings.csv\")\n",
    "df['embedding'] = df['embedding'].apply(ast.literal_eval)\n",
    "\n",
    "for idx in I[0]:\n",
    "    # chunk 14 is answer    \n",
    "    print(idx, ':', df['chunk'].iloc[idx])\n",
    "    print()\n"
   ]
  },
  {
   "cell_type": "code",
   "execution_count": null,
   "id": "dca1c8c0",
   "metadata": {},
   "outputs": [],
   "source": []
  }
 ],
 "metadata": {
  "kernelspec": {
   "display_name": "llm_agent",
   "language": "python",
   "name": "python3"
  },
  "language_info": {
   "codemirror_mode": {
    "name": "ipython",
    "version": 3
   },
   "file_extension": ".py",
   "mimetype": "text/x-python",
   "name": "python",
   "nbconvert_exporter": "python",
   "pygments_lexer": "ipython3",
   "version": "3.11.11"
  }
 },
 "nbformat": 4,
 "nbformat_minor": 5
}
